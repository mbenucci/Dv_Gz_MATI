{
 "cells": [
  {
   "cell_type": "markdown",
   "metadata": {},
   "source": [
    "Here the we aim to assign taxonomic identity to the set of denovo OTUs obtained from the DNA and eDNA samples taken from river catchments in the UK.\n",
    "\n",
    "Here we are using a full GenBank as a reference database (this will be a curated invertebrate database in future runs). Taxonomic assignment will be performed using two different approaches:\n",
    "\n",
    " - BLAST based LCA\n",
    " - Kraken (k-mer based sequence classification)\n",
    " \n",
    "We will again be using metaBEAT to facilitate reproducibility.\n",
    "\n",
    "The final result of this notebook will be a taxonomically annotated OTU table in BIOM format from each approach, which I can then go and compare. BIOM format and the associated set of python functions has been developed as a standardized format for representing 'biological sample by observation contingency tables' in the -omics area.\n",
    "\n",
    "Most of the input data was produced during processing of the eDNA samples.\n",
    "\n",
    "I must specify location and file format reference sequences come in. Different formats (fasta, Genbank) can be mixed and matched. A simple text file that contains the path to the file and the format specification must be prepared.\n"
   ]
  },
  {
   "cell_type": "markdown",
   "metadata": {},
   "source": [
    "**Notes for using the invert_database when it is finished**\n",
    "\n",
    "The reference sequences in Genbank/fasta format are contained in the directory Reference_Alignment. The files is called `12S_UK...._SATIVA_cleaned.gb' and additional fasta files containing Sanger sequences to supplement records on genbank.\n",
    "\n",
    "Produce the text file containing the invert_database reference sequences using the command line - We call it REFmap.txt."
   ]
  },
  {
   "cell_type": "code",
   "execution_count": null,
   "metadata": {
    "collapsed": false,
    "scrolled": true
   },
   "outputs": [],
   "source": [
    "pwd"
   ]
  },
  {
   "cell_type": "code",
   "execution_count": null,
   "metadata": {
    "collapsed": false
   },
   "outputs": [],
   "source": [
    "mkdir taxonomic_assignment"
   ]
  },
  {
   "cell_type": "code",
   "execution_count": null,
   "metadata": {
    "collapsed": false
   },
   "outputs": [],
   "source": [
    "cd taxonomic_assignment/"
   ]
  },
  {
   "cell_type": "code",
   "execution_count": null,
   "metadata": {
    "collapsed": false
   },
   "outputs": [],
   "source": [
    "ls ../../reference_database/CO1_refdb/"
   ]
  },
  {
   "cell_type": "code",
   "execution_count": null,
   "metadata": {
    "collapsed": true
   },
   "outputs": [],
   "source": [
    "!echo '../../reference_database/CO1_refdb/CO1_Acaria_Aracnida_SATIVA_cleaned.gb\\tgb\\n' \\\n",
    "'../../reference_database/CO1_refdb/CO1_amphipoda-part_SATIVA_cleaned.gb\\tgb\\n' \\\n",
    "'../../reference_database/CO1_refdb/CO1_Anellida_SATIVA_cleaned.gb\\tgb\\n' \\\n",
    "'../../reference_database/CO1_refdb/CO1_coccinellidae_SATIVA_cleaned.gb\\tgb\\n' \\\n",
    "'../../reference_database/CO1_refdb/CO1_Coleoptera_SATIVA_cleaned.gb\\tgb\\n' \\\n",
    "'../../reference_database/CO1_refdb/CO1_Crustacea_SATIVA_cleaned.gb\\tgb\\n' \\\n",
    "'../../reference_database/CO1_refdb/CO1_EPNM_SATIVA_cleaned.gb\\tgb\\n' \\\n",
    "'../../reference_database/CO1_refdb/CO1_Hemiptera-Hymenoptera_SATIVA_cleaned.gb\\tgb\\n' \\\n",
    "'../../reference_database/CO1_refdb/CO1_Mollusca_SATIVA_cleaned.gb\\tgb\\n' \\\n",
    "'../../reference_database/CO1_refdb/CO1_Odonata_SATIVA_cleaned.gb\\tgb\\n' \\\n",
    "'../../reference_database/CO1_refdb/CO1_Trichoptera_Lepidoptera_SATIVA_cleaned.gb\\tgb' > REFmap.txt"
   ]
  },
  {
   "cell_type": "code",
   "execution_count": null,
   "metadata": {
    "collapsed": false
   },
   "outputs": [],
   "source": [
    "!cat REFmap.txt"
   ]
  },
  {
   "cell_type": "markdown",
   "metadata": {},
   "source": [
    "**As we have no invert_database yet, we will be blasting against full online NCBI**\n",
    "\n",
    "Produce the text file containing non-chimera query sequences - Querymap.txt"
   ]
  },
  {
   "cell_type": "code",
   "execution_count": null,
   "metadata": {
    "collapsed": false
   },
   "outputs": [],
   "source": [
    "%%bash\n",
    "\n",
    "#Querymap\n",
    "for a in $(ls -l ../chimera_detection/ | grep \"^d\" | perl -ne 'chomp; @a=split(\" \"); print \"$a[-1]\\n\"')\n",
    "do\n",
    "    echo -e \"$a-nc\\tfasta\\t../chimera_detection/$a/$a-nonchimeras.fasta\"\n",
    "done > Querymap.txt"
   ]
  },
  {
   "cell_type": "code",
   "execution_count": null,
   "metadata": {
    "collapsed": false
   },
   "outputs": [],
   "source": [
    "!cat Querymap.txt"
   ]
  },
  {
   "cell_type": "markdown",
   "metadata": {},
   "source": [
    "The Querymap.txt file has been made but include the GLOBAL directory in which all centroids and queries are contained (line 514). This will cause metaBEAT to fail so must be removed manually from the Querymap.txt file."
   ]
  },
  {
   "cell_type": "code",
   "execution_count": null,
   "metadata": {
    "collapsed": true
   },
   "outputs": [],
   "source": [
    "!sed '/GLOBAL/d' Querymap.txt > Querymap_final.txt"
   ]
  },
  {
   "cell_type": "code",
   "execution_count": null,
   "metadata": {
    "collapsed": false,
    "scrolled": true
   },
   "outputs": [],
   "source": [
    "!cat Querymap_final.txt"
   ]
  },
  {
   "cell_type": "markdown",
   "metadata": {},
   "source": [
    "That's almost it. Now start the pipeline to do sequence clustering and taxonomic assignment of non-chimera queries via metaBEAT. As input, Querymap.txt containing samples that have been trimmed, merged and checked for chimeras, and the REFmap.txt file must be specified. metaBEAT will be asked to attempt taxonomic assignment with the two different approaches mentioned above.\n",
    "\n",
    "Kraken requires a specific database that metaBEAT will build automatically if necessary.\n",
    "metaBEAT will automatically wrangle the data into the particular file formats that are required by each of the methods, run all necessary steps, and finally convert the outputs of each program to a standardized BIOM table.\n",
    "GO!"
   ]
  },
  {
   "cell_type": "code",
   "execution_count": null,
   "metadata": {
    "collapsed": false,
    "scrolled": true
   },
   "outputs": [],
   "source": [
    "!metaBEAT_global.py -h"
   ]
  },
  {
   "cell_type": "code",
   "execution_count": null,
   "metadata": {
    "collapsed": false
   },
   "outputs": [],
   "source": [
    "%%bash\n",
    "\n",
    "metaBEAT_global.py \\\n",
    "-Q Querymap_final.txt \\\n",
    "-R REFmap.txt \\\n",
    "--cluster --clust_match 0.97 --clust_cov 2 \\\n",
    "--blast --min_ident 0.97 --min_ali_length 0.8 \\\n",
    "-m COI -n 5 \\\n",
    "-E -v \\\n",
    "-@ M.Benucci@2015.hull.ac.uk \\\n",
    "-o CO1DvAug18-merge-forwonly-nonchimera-c97-cov2_refdb-id97 &> log0.97"
   ]
  },
  {
   "cell_type": "code",
   "execution_count": null,
   "metadata": {
    "collapsed": false,
    "scrolled": true
   },
   "outputs": [],
   "source": [
    "!tail -n 50 log0.97"
   ]
  },
  {
   "cell_type": "markdown",
   "metadata": {},
   "source": [
    "Preparing and blasting unassigned sequences"
   ]
  },
  {
   "cell_type": "code",
   "execution_count": null,
   "metadata": {
    "collapsed": true
   },
   "outputs": [],
   "source": [
    "import metaBEAT_global_misc_functions as mb"
   ]
  },
  {
   "cell_type": "code",
   "execution_count": null,
   "metadata": {
    "collapsed": false
   },
   "outputs": [],
   "source": [
    "pwd"
   ]
  },
  {
   "cell_type": "code",
   "execution_count": null,
   "metadata": {
    "collapsed": false
   },
   "outputs": [],
   "source": [
    "cd ../taxonomic_assignment/GLOBAL/BLAST_0.97/"
   ]
  },
  {
   "cell_type": "code",
   "execution_count": null,
   "metadata": {
    "collapsed": false
   },
   "outputs": [],
   "source": [
    "cd ../../"
   ]
  },
  {
   "cell_type": "code",
   "execution_count": null,
   "metadata": {
    "collapsed": false
   },
   "outputs": [],
   "source": [
    "!ls GLOBAL/BLAST_0.97/"
   ]
  },
  {
   "cell_type": "code",
   "execution_count": null,
   "metadata": {
    "collapsed": false
   },
   "outputs": [],
   "source": [
    "table = mb.load_BIOM('./GLOBAL/BLAST_0.97/CO1DvAug18-merge-forwonly-nonchimera-c97-cov2_refdb-id97-OTU-taxonomy.blast.biom', informat='json')"
   ]
  },
  {
   "cell_type": "code",
   "execution_count": null,
   "metadata": {
    "collapsed": false
   },
   "outputs": [],
   "source": [
    "print table"
   ]
  },
  {
   "cell_type": "code",
   "execution_count": null,
   "metadata": {
    "collapsed": false
   },
   "outputs": [],
   "source": [
    "unassigned_table = mb.BIOM_return_by_tax_level(taxlevel='unassigned', BIOM=table, invert=False)"
   ]
  },
  {
   "cell_type": "code",
   "execution_count": null,
   "metadata": {
    "collapsed": false
   },
   "outputs": [],
   "source": [
    "print unassigned_table.metadata(axis='observation')"
   ]
  },
  {
   "cell_type": "code",
   "execution_count": null,
   "metadata": {
    "collapsed": false,
    "scrolled": true
   },
   "outputs": [],
   "source": [
    "!ls ./GLOBAL/"
   ]
  },
  {
   "cell_type": "code",
   "execution_count": null,
   "metadata": {
    "collapsed": false
   },
   "outputs": [],
   "source": [
    "mb.extract_fasta_by_BIOM_OTU_ids(in_fasta='./GLOBAL/global_queries.fasta', BIOM=unassigned_table,\n",
    "                                out_fasta='./GLOBAL/unassigned_only.fasta')"
   ]
  },
  {
   "cell_type": "code",
   "execution_count": null,
   "metadata": {
    "collapsed": false
   },
   "outputs": [],
   "source": [
    "!ls ./GLOBAL/"
   ]
  },
  {
   "cell_type": "code",
   "execution_count": null,
   "metadata": {
    "collapsed": true
   },
   "outputs": [],
   "source": [
    "unassigned_table_notax = mb.drop_BIOM_taxonomy(unassigned_table)"
   ]
  },
  {
   "cell_type": "code",
   "execution_count": null,
   "metadata": {
    "collapsed": false
   },
   "outputs": [],
   "source": [
    "print unassigned_table_notax.metadata(axis='observation')"
   ]
  },
  {
   "cell_type": "code",
   "execution_count": null,
   "metadata": {
    "collapsed": false
   },
   "outputs": [],
   "source": [
    "mb.write_BIOM(BIOM=unassigned_table_notax, target_prefix='./GLOBAL/unassigned_only_denovo', outfmt=['json','tsv'])"
   ]
  },
  {
   "cell_type": "code",
   "execution_count": null,
   "metadata": {
    "collapsed": false
   },
   "outputs": [],
   "source": [
    "!ls ./GLOBAL"
   ]
  },
  {
   "cell_type": "code",
   "execution_count": null,
   "metadata": {
    "collapsed": false
   },
   "outputs": [],
   "source": [
    "cd .."
   ]
  },
  {
   "cell_type": "code",
   "execution_count": null,
   "metadata": {
    "collapsed": false
   },
   "outputs": [],
   "source": [
    "!mkdir unassigned_otu"
   ]
  },
  {
   "cell_type": "code",
   "execution_count": null,
   "metadata": {
    "collapsed": true
   },
   "outputs": [],
   "source": [
    "!cp taxonomic_assignment/GLOBAL/u* ./unassigned_otu/"
   ]
  },
  {
   "cell_type": "code",
   "execution_count": null,
   "metadata": {
    "collapsed": false,
    "scrolled": true
   },
   "outputs": [],
   "source": [
    "cd unassigned_otu/"
   ]
  },
  {
   "cell_type": "code",
   "execution_count": null,
   "metadata": {
    "collapsed": true
   },
   "outputs": [],
   "source": [
    "%%bash\n",
    "\n",
    "metaBEAT_global.py \\\n",
    "-B unassigned_only_denovo.biom \\\n",
    "--g_queries unassigned_only.fasta \\\n",
    "--cluster --clust_match 0.97 --clust_cov 2 \\\n",
    "--blast --blast_db ../../BLAST_DB-aug18/nt/nt --min_ident 0.97 --min_ali_length 0.8 \\\n",
    "-m COI -n 5 \\\n",
    "-E -v \\\n",
    "-@ M.Benucci@2015.hull.ac.uk \\\n",
    "-o CO1DvAug18-merge-forwonly_nonchimera_blast-unassigned_c97-cov2_blast-id97 &> log0.97"
   ]
  },
  {
   "cell_type": "markdown",
   "metadata": {},
   "source": [
    "Trouble shooting notes:\n",
    "An error comes up one or more taxids are present in the taxid files (gi_to_taxid.csv, gb_to_taxid.csv, taxid.txt), but it is not present in the taxonomy database that the current metaBEAT image contains for some reason. The taxonomy database in the current image can be brought up to date manually using:\n",
    "\n",
    "Below not needed as we have updated the DB"
   ]
  },
  {
   "cell_type": "code",
   "execution_count": null,
   "metadata": {
    "collapsed": false,
    "scrolled": true
   },
   "outputs": [],
   "source": [
    "!tail -n 50 log0.97"
   ]
  },
  {
   "cell_type": "markdown",
   "metadata": {},
   "source": [
    "If the analysis gives an error with less taxa ID returned from the list provided, it means that the taxonomy database needs to be update. The script below will update the database for `taxtastic` package to run. It will take few minutes."
   ]
  },
  {
   "cell_type": "code",
   "execution_count": null,
   "metadata": {
    "collapsed": true
   },
   "outputs": [],
   "source": [
    "%%bash\n",
    "\n",
    "metaBEAT_global.py --update_taxonomy"
   ]
  }
 ],
 "metadata": {
  "kernelspec": {
   "display_name": "Python 2",
   "language": "python",
   "name": "python2"
  },
  "language_info": {
   "codemirror_mode": {
    "name": "ipython",
    "version": 2
   },
   "file_extension": ".py",
   "mimetype": "text/x-python",
   "name": "python",
   "nbconvert_exporter": "python",
   "pygments_lexer": "ipython2",
   "version": "2.7.6"
  }
 },
 "nbformat": 4,
 "nbformat_minor": 0
}
